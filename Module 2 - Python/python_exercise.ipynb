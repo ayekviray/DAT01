{
 "cells": [
  {
   "cell_type": "markdown",
   "metadata": {},
   "source": [
    "# **Python Exercise**"
   ]
  },
  {
   "cell_type": "markdown",
   "metadata": {},
   "source": [
    "## Exercise 1: Conditional Problem\n",
    "\n",
    "**Problem:** Create a dictionary to store information about a student: name, age, grade level, and average grade.\n",
    "\n",
    "1. If the average grade is 90 or above, print `\"Excellent!\"`.\n",
    "2. If the average grade is between 80 and 89, print `\"Very Good\"`.\n",
    "3. If the average grade is between 70 and 79, print `\"Good\"`.\n",
    "4. If the average grade is below 70, print `\"Needs Improvement\"`."
   ]
  },
  {
   "cell_type": "code",
   "execution_count": 62,
   "metadata": {},
   "outputs": [
    {
     "name": "stdout",
     "output_type": "stream",
     "text": [
      "Very Good\n"
     ]
    }
   ],
   "source": [
    "# Create a dictionary to store information about a student\n",
    "student = {\n",
    "    \"name\": \"Alex Trapp\",\n",
    "    \"age\": 16,\n",
    "    \"grade_level\": 10,\n",
    "    \"average_grade\": 85 # Example average grade\n",
    "}\n",
    "\n",
    "# Check the average grade and print the corresponding message\n",
    "if student[\"average_grade\"] >= 90:\n",
    "    print(\"Excellent!\")\n",
    "elif student[\"average_grade\"] >= 80 and student[\"average_grade\"] < 90:\n",
    "    print(\"Very Good\")\n",
    "elif student[\"average_grade\"] >= 70 and student[\"average_grade\"] < 80:\n",
    "    print(\"Good\")\n",
    "else:\n",
    "    print(\"Needs Improvement\")\n"
   ]
  },
  {
   "cell_type": "markdown",
   "metadata": {},
   "source": [
    "## Exercise 2: Looping Problem\n",
    "\n",
    "Problem: Create a list of 5 numbers.\n",
    "\n",
    "1. Iterate through the list and print each number.\n",
    "2. Calculate the sum of all numbers in the list."
   ]
  },
  {
   "cell_type": "code",
   "execution_count": 63,
   "metadata": {},
   "outputs": [
    {
     "name": "stdout",
     "output_type": "stream",
     "text": [
      "The numbers in the list are:\n",
      "2\n",
      "10\n",
      "8\n",
      "4\n",
      "6\n"
     ]
    }
   ],
   "source": [
    "# Create a list of 5 numbers\n",
    "list_of_five_numbers = [2, 10, 8, 4, 6]\n",
    "\n",
    "# 1. Iterate through the list and print each number\n",
    "print(\"The numbers in the list are:\")\n",
    "for num in list_of_five_numbers:\n",
    "    print(num)"
   ]
  },
  {
   "cell_type": "code",
   "execution_count": 64,
   "metadata": {},
   "outputs": [
    {
     "name": "stdout",
     "output_type": "stream",
     "text": [
      "The sum of all numbers in the list is: 30\n"
     ]
    }
   ],
   "source": [
    "# 2. Calculate the sum of all numbers in the list.\n",
    "\n",
    "# Initialize total_sum to zero\n",
    "total_sum = 0\n",
    "\n",
    "# Iterate through the list and add each number to the total sum\n",
    "for num in list_of_five_numbers:\n",
    "    total_sum += num\n",
    "\n",
    "# Print the sum of all numbers in the list\n",
    "print(f\"The sum of all numbers in the list is: {total_sum}\")\n"
   ]
  }
 ],
 "metadata": {
  "kernelspec": {
   "display_name": "Python 3",
   "language": "python",
   "name": "python3"
  },
  "language_info": {
   "codemirror_mode": {
    "name": "ipython",
    "version": 3
   },
   "file_extension": ".py",
   "mimetype": "text/x-python",
   "name": "python",
   "nbconvert_exporter": "python",
   "pygments_lexer": "ipython3",
   "version": "3.13.0"
  }
 },
 "nbformat": 4,
 "nbformat_minor": 2
}
