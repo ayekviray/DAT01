{
 "cells": [
  {
   "cell_type": "markdown",
   "metadata": {},
   "source": [
    "# **SQL Exercise**"
   ]
  },
  {
   "cell_type": "markdown",
   "metadata": {},
   "source": [
    "## **Activity 1** \n",
    "\n",
    "Practice performing CRUD operations (Create, Read, Update, Delete) on a database table.\n",
    "\n",
    "### **Perform the following tasks:**"
   ]
  },
  {
   "cell_type": "code",
   "execution_count": 1,
   "metadata": {},
   "outputs": [],
   "source": [
    "import sqlite3"
   ]
  },
  {
   "cell_type": "markdown",
   "metadata": {},
   "source": [
    "1. Connect to the database `abc_corp.db` and create the cursor."
   ]
  },
  {
   "cell_type": "code",
   "execution_count": 2,
   "metadata": {},
   "outputs": [],
   "source": [
    "conn = sqlite3.connect('abc_corp.db')\n",
    "cursor = conn.cursor()"
   ]
  },
  {
   "cell_type": "markdown",
   "metadata": {},
   "source": [
    "2. `Create` a new table named books, with the following columns:\n",
    "  * book_id (primary Key)\n",
    "  * title (Title of the book)\n",
    "  * author (Author of the book)\n",
    "  * genre (Genre of the book)\n",
    "  * publication_year (Year of publication)\n",
    "  * price (Price of the Book)"
   ]
  },
  {
   "cell_type": "code",
   "execution_count": 3,
   "metadata": {},
   "outputs": [],
   "source": [
    "cursor.execute(\"\"\"\n",
    "CREATE TABLE IF NOT EXISTS books (\n",
    "               book_id INT PRIMARY KEY,\n",
    "               title VARCHAR(50) NOT NULL,\n",
    "               author VARCHAR(50) NOT NULL,\n",
    "               genre VARCHAR(50) NOT NULL,\n",
    "               publication_year INT NOT NULL, \n",
    "               price DECIMAL(10, 2) NOT NULL\n",
    ")\n",
    "\"\"\")\n",
    "\n",
    "conn.commit()   "
   ]
  },
  {
   "cell_type": "markdown",
   "metadata": {},
   "source": [
    "3. `Insert` at least 5 new books into the books table."
   ]
  },
  {
   "cell_type": "code",
   "execution_count": 4,
   "metadata": {},
   "outputs": [],
   "source": [
    "cursor.execute(\"\"\"\n",
    "INSERT INTO books (book_id, title, author, genre, publication_year, price)\n",
    "               VALUES (1, '1984', 'George Orwell', 'Dystopian', 1949, 15.99);\n",
    "\"\"\")\n",
    "\n",
    "cursor.execute(\"\"\"\n",
    "INSERT INTO books (book_id, title, author, genre, publication_year, price)\n",
    "               VALUES (2, 'To Kill a Mockingbird', 'Harper Lee', 'Classic', 1960, 12.99);\n",
    "\"\"\")\n",
    "\n",
    "cursor.execute(\"\"\"\n",
    "INSERT INTO books (book_id, title, author, genre, publication_year, price)\n",
    "               VALUES (3, 'The Great Gatsby', 'F. Scott Fitzgerald', 'Classic', 1925, 10.99);\n",
    "\"\"\")\n",
    "\n",
    "cursor.execute(\"\"\"\n",
    "INSERT INTO books (book_id, title, author, genre, publication_year, price)\n",
    "               VALUES (4, 'Moby Dick', 'Herman Melville', 'Adventure', 1851, 9.99);\n",
    "\"\"\")\n",
    "\n",
    "cursor.execute(\"\"\"\n",
    "INSERT INTO books (book_id, title, author, genre, publication_year, price)\n",
    "               VALUES (5, 'Pride and Prejudice', 'Jane Austen', 'Romance', 1813, 14.99);\n",
    "\"\"\")\n",
    "\n",
    "conn.commit()"
   ]
  },
  {
   "cell_type": "markdown",
   "metadata": {},
   "source": [
    "4. `Retrieve` all books from the books table."
   ]
  },
  {
   "cell_type": "code",
   "execution_count": 5,
   "metadata": {},
   "outputs": [
    {
     "data": {
      "text/plain": [
       "[(1, '1984', 'George Orwell', 'Dystopian', 1949, 15.99),\n",
       " (2, 'To Kill a Mockingbird', 'Harper Lee', 'Classic', 1960, 12.99),\n",
       " (3, 'The Great Gatsby', 'F. Scott Fitzgerald', 'Classic', 1925, 10.99),\n",
       " (4, 'Moby Dick', 'Herman Melville', 'Adventure', 1851, 9.99),\n",
       " (5, 'Pride and Prejudice', 'Jane Austen', 'Romance', 1813, 14.99)]"
      ]
     },
     "execution_count": 5,
     "metadata": {},
     "output_type": "execute_result"
    }
   ],
   "source": [
    "cursor.execute(\"SELECT * FROM books;\")\n",
    "cursor.fetchall()"
   ]
  },
  {
   "cell_type": "markdown",
   "metadata": {},
   "source": [
    "5. `Update` the price of a specific book."
   ]
  },
  {
   "cell_type": "code",
   "execution_count": 6,
   "metadata": {},
   "outputs": [],
   "source": [
    "cursor.execute(\"\"\"\n",
    "UPDATE books SET price = 16.99\n",
    "               WHERE book_id = 5\n",
    "\"\"\")\n",
    "conn.commit()"
   ]
  },
  {
   "cell_type": "code",
   "execution_count": 7,
   "metadata": {},
   "outputs": [
    {
     "data": {
      "text/plain": [
       "[(1, '1984', 'George Orwell', 'Dystopian', 1949, 15.99),\n",
       " (2, 'To Kill a Mockingbird', 'Harper Lee', 'Classic', 1960, 12.99),\n",
       " (3, 'The Great Gatsby', 'F. Scott Fitzgerald', 'Classic', 1925, 10.99),\n",
       " (4, 'Moby Dick', 'Herman Melville', 'Adventure', 1851, 9.99),\n",
       " (5, 'Pride and Prejudice', 'Jane Austen', 'Romance', 1813, 16.99)]"
      ]
     },
     "execution_count": 7,
     "metadata": {},
     "output_type": "execute_result"
    }
   ],
   "source": [
    "cursor.execute(\"SELECT * FROM books;\")\n",
    "cursor.fetchall()"
   ]
  },
  {
   "cell_type": "markdown",
   "metadata": {},
   "source": [
    "6. `Delete` a book from the table."
   ]
  },
  {
   "cell_type": "code",
   "execution_count": 8,
   "metadata": {},
   "outputs": [],
   "source": [
    "cursor.execute(\"DELETE FROM books WHERE book_id = 5;\")\n",
    "conn.commit()"
   ]
  },
  {
   "cell_type": "code",
   "execution_count": 9,
   "metadata": {},
   "outputs": [
    {
     "data": {
      "text/plain": [
       "[(1, '1984', 'George Orwell', 'Dystopian', 1949, 15.99),\n",
       " (2, 'To Kill a Mockingbird', 'Harper Lee', 'Classic', 1960, 12.99),\n",
       " (3, 'The Great Gatsby', 'F. Scott Fitzgerald', 'Classic', 1925, 10.99),\n",
       " (4, 'Moby Dick', 'Herman Melville', 'Adventure', 1851, 9.99)]"
      ]
     },
     "execution_count": 9,
     "metadata": {},
     "output_type": "execute_result"
    }
   ],
   "source": [
    "cursor.execute(\"SELECT * FROM books;\")\n",
    "cursor.fetchall()"
   ]
  },
  {
   "cell_type": "markdown",
   "metadata": {},
   "source": [
    "## **Activity 2** \n",
    "\n",
    "Practice using SQL queries with LIMIT, COUNT, and WHERE Clause along with comparison, logical, and special operators.\n",
    "\n",
    "### **Perform the following tasks:**"
   ]
  },
  {
   "cell_type": "markdown",
   "metadata": {},
   "source": [
    "1. Create a table named `Students` and add these columns:\n",
    "  * **student_id** : This column stores the unique identifier for each student, serving as the primary key of the table.\n",
    "  * **name** : It holds the full name of the student, allowing for the storage of both the first name and last name within a maximum length of 50 characters.\n",
    "  * **age** : This column represents the age of the student in years, stored as an integer value.\n",
    "  * **gender** : It stores the gender of the student, allowing for the classification as either \"Male\" or \"Female\" within a maximum length of 10 characters.\n",
    "  * **grade** : This column holds the grade level of the student, typically represented by a single character such as 'A', 'B', 'C', 'D', indicating academic performance or class standing."
   ]
  },
  {
   "cell_type": "code",
   "execution_count": 10,
   "metadata": {},
   "outputs": [],
   "source": [
    "cursor.execute(\"\"\"\n",
    "CREATE TABLE IF NOT EXISTS students (\n",
    "               student_id INT PRIMARY KEY,\n",
    "               name VARCHAR(50) NOT NULL,\n",
    "               age INT NOT NULL,\n",
    "               gender VARCHAR(10) NOT NULL, \n",
    "               grade CHAR(1) NOT NULL\n",
    ")\n",
    "\"\"\")\n",
    "\n",
    "conn.commit()   "
   ]
  },
  {
   "cell_type": "markdown",
   "metadata": {},
   "source": [
    "2. Insert the provided data below into the students table."
   ]
  },
  {
   "cell_type": "markdown",
   "metadata": {},
   "source": [
    "| student_id | name             | age | gender | grade |\n",
    "| ---------- | ---------------- | --- | ------ | ----- |\n",
    "| 1          | John Di          | 18  | Male   | A     |\n",
    "| 2          | Emily Clark      | 17  | Female | B     |\n",
    "| 3          | Michael Santos   | 19  | Male   | C     |\n",
    "| 4          | Sarah Davis      | 16  | Female | A     |\n",
    "| 5          | David Poms       | 18  | Male   | B     |\n",
    "| 6          | Jessica Parker   | 17  | Female | A     |\n",
    "| 7          | Matthew Ross     | 19  | Male   | D     |\n",
    "| 8          | Ashey Lim        | 18  | Female | C     |\n",
    "| 9          | Christopher Chen | 17  | Male   | D     |\n",
    "| 10         | Amanda Hanes     | 16  | Female | B     |"
   ]
  },
  {
   "cell_type": "code",
   "execution_count": 11,
   "metadata": {},
   "outputs": [],
   "source": [
    "cursor.execute(\"\"\"\n",
    "INSERT INTO students (student_id, name, age, gender, grade)\n",
    "               VALUES (1, 'John Di', 18, 'Male', 'A');\n",
    "\"\"\")\n",
    "\n",
    "cursor.execute(\"\"\"\n",
    "INSERT INTO students (student_id, name, age, gender, grade)\n",
    "               VALUES (2, 'Emily Clark', 17, 'Female', 'B');\n",
    "\"\"\")\n",
    "\n",
    "cursor.execute(\"\"\"\n",
    "INSERT INTO students (student_id, name, age, gender, grade)\n",
    "               VALUES (3, 'Michael Santos', 19, 'Male', 'C');\n",
    "\"\"\")\n",
    "\n",
    "cursor.execute(\"\"\"\n",
    "INSERT INTO students (student_id, name, age, gender, grade)\n",
    "               VALUES (4, 'Sarah Davis', 16, 'Female', 'A');\n",
    "\"\"\")\n",
    "\n",
    "cursor.execute(\"\"\"\n",
    "INSERT INTO students (student_id, name, age, gender, grade)\n",
    "               VALUES (5, 'David Poms', 18, 'Male', 'B');\n",
    "\"\"\")\n",
    "\n",
    "cursor.execute(\"\"\"\n",
    "INSERT INTO students (student_id, name, age, gender, grade)\n",
    "               VALUES (6, 'Jessica Parker', 17, 'Female', 'A');\n",
    "\"\"\")\n",
    "\n",
    "cursor.execute(\"\"\"\n",
    "INSERT INTO students (student_id, name, age, gender, grade)\n",
    "               VALUES (7, 'Matthew Ross', 19, 'Male', 'D');\n",
    "\"\"\")\n",
    "\n",
    "cursor.execute(\"\"\"\n",
    "INSERT INTO students (student_id, name, age, gender, grade)\n",
    "               VALUES (8, 'Ashey Lim', 18, 'Female', 'C');\n",
    "\"\"\")\n",
    "\n",
    "cursor.execute(\"\"\"\n",
    "INSERT INTO students (student_id, name, age, gender, grade)\n",
    "               VALUES (9, 'Christopher Chen', 17, 'Male', 'D');\n",
    "\"\"\")\n",
    "\n",
    "cursor.execute(\"\"\"\n",
    "INSERT INTO students (student_id, name, age, gender, grade)\n",
    "               VALUES (10, 'Amanda Hanes', 16, 'Female', 'B');\n",
    "\"\"\")\n",
    "\n",
    "conn.commit()"
   ]
  },
  {
   "cell_type": "markdown",
   "metadata": {},
   "source": [
    "3. Retrieve only the name and grade columns for all students."
   ]
  },
  {
   "cell_type": "code",
   "execution_count": 12,
   "metadata": {},
   "outputs": [
    {
     "data": {
      "text/plain": [
       "[('John Di', 'A'),\n",
       " ('Emily Clark', 'B'),\n",
       " ('Michael Santos', 'C'),\n",
       " ('Sarah Davis', 'A'),\n",
       " ('David Poms', 'B'),\n",
       " ('Jessica Parker', 'A'),\n",
       " ('Matthew Ross', 'D'),\n",
       " ('Ashey Lim', 'C'),\n",
       " ('Christopher Chen', 'D'),\n",
       " ('Amanda Hanes', 'B')]"
      ]
     },
     "execution_count": 12,
     "metadata": {},
     "output_type": "execute_result"
    }
   ],
   "source": [
    "cursor.execute(\"SELECT name, grade FROM students;\")\n",
    "cursor.fetchall()"
   ]
  },
  {
   "cell_type": "markdown",
   "metadata": {},
   "source": [
    "4. Retrieve male students older than 18 years old."
   ]
  },
  {
   "cell_type": "code",
   "execution_count": 27,
   "metadata": {},
   "outputs": [
    {
     "data": {
      "text/plain": [
       "[(3, 'Michael Santos', 19, 'Male', 'C'), (7, 'Matthew Ross', 19, 'Male', 'D')]"
      ]
     },
     "execution_count": 27,
     "metadata": {},
     "output_type": "execute_result"
    }
   ],
   "source": [
    "cursor.execute(\"\"\"\n",
    "SELECT * FROM students \n",
    "               WHERE gender = 'Male' AND age > 18;\n",
    "\"\"\")\n",
    "cursor.fetchall()"
   ]
  },
  {
   "cell_type": "markdown",
   "metadata": {},
   "source": [
    "5. Retrieve the name and age of students who are older than or equal to 18."
   ]
  },
  {
   "cell_type": "code",
   "execution_count": 17,
   "metadata": {},
   "outputs": [
    {
     "data": {
      "text/plain": [
       "[('John Di', 18),\n",
       " ('Michael Santos', 19),\n",
       " ('David Poms', 18),\n",
       " ('Matthew Ross', 19),\n",
       " ('Ashey Lim', 18)]"
      ]
     },
     "execution_count": 17,
     "metadata": {},
     "output_type": "execute_result"
    }
   ],
   "source": [
    "cursor.execute(\"\"\"\n",
    "SELECT name, age FROM students \n",
    "               WHERE age >= 18;\n",
    "\"\"\")\n",
    "cursor.fetchall()"
   ]
  },
  {
   "cell_type": "markdown",
   "metadata": {},
   "source": [
    "6. Retrieve the name and gender of students who are either 16 years old or have a grade of 'A'."
   ]
  },
  {
   "cell_type": "code",
   "execution_count": 28,
   "metadata": {},
   "outputs": [
    {
     "data": {
      "text/plain": [
       "[('John Di', 'Male'),\n",
       " ('Sarah Davis', 'Female'),\n",
       " ('Jessica Parker', 'Female'),\n",
       " ('Amanda Hanes', 'Female')]"
      ]
     },
     "execution_count": 28,
     "metadata": {},
     "output_type": "execute_result"
    }
   ],
   "source": [
    "cursor.execute(\"\"\"\n",
    "SELECT name, gender FROM students \n",
    "               WHERE age = 16 OR grade = 'A';\n",
    "\"\"\")\n",
    "cursor.fetchall()"
   ]
  },
  {
   "cell_type": "markdown",
   "metadata": {},
   "source": [
    "7. Retrieve the name, age, and grade of female students who are younger than 18."
   ]
  },
  {
   "cell_type": "code",
   "execution_count": 29,
   "metadata": {},
   "outputs": [
    {
     "data": {
      "text/plain": [
       "[('Emily Clark', 17, 'B'),\n",
       " ('Sarah Davis', 16, 'A'),\n",
       " ('Jessica Parker', 17, 'A'),\n",
       " ('Amanda Hanes', 16, 'B')]"
      ]
     },
     "execution_count": 29,
     "metadata": {},
     "output_type": "execute_result"
    }
   ],
   "source": [
    "cursor.execute(\"\"\"\n",
    "SELECT name, age, grade FROM students \n",
    "               WHERE gender = 'Female' AND age < 18;\n",
    "\"\"\")\n",
    "cursor.fetchall()"
   ]
  },
  {
   "cell_type": "markdown",
   "metadata": {},
   "source": [
    "8. Retrieve the count of male students."
   ]
  },
  {
   "cell_type": "code",
   "execution_count": 24,
   "metadata": {},
   "outputs": [
    {
     "data": {
      "text/plain": [
       "[('Male', 5)]"
      ]
     },
     "execution_count": 24,
     "metadata": {},
     "output_type": "execute_result"
    }
   ],
   "source": [
    "cursor.execute(\"\"\"\n",
    "SELECT gender, COUNT(gender) FROM students\n",
    "               WHERE gender = 'Male';\n",
    "\"\"\")\n",
    "cursor.fetchall()"
   ]
  },
  {
   "cell_type": "markdown",
   "metadata": {},
   "source": [
    "9. Retrieve the students who are between 16 or 19 years old."
   ]
  },
  {
   "cell_type": "code",
   "execution_count": 30,
   "metadata": {},
   "outputs": [
    {
     "data": {
      "text/plain": [
       "[(1, 'John Di', 18, 'Male', 'A'),\n",
       " (2, 'Emily Clark', 17, 'Female', 'B'),\n",
       " (3, 'Michael Santos', 19, 'Male', 'C'),\n",
       " (4, 'Sarah Davis', 16, 'Female', 'A'),\n",
       " (5, 'David Poms', 18, 'Male', 'B'),\n",
       " (6, 'Jessica Parker', 17, 'Female', 'A'),\n",
       " (7, 'Matthew Ross', 19, 'Male', 'D'),\n",
       " (8, 'Ashey Lim', 18, 'Female', 'C'),\n",
       " (9, 'Christopher Chen', 17, 'Male', 'D'),\n",
       " (10, 'Amanda Hanes', 16, 'Female', 'B')]"
      ]
     },
     "execution_count": 30,
     "metadata": {},
     "output_type": "execute_result"
    }
   ],
   "source": [
    "cursor.execute(\"\"\"\n",
    "SELECT * FROM students \n",
    "               WHERE age BETWEEN 16 AND 19;\n",
    "\"\"\")\n",
    "cursor.fetchall()"
   ]
  },
  {
   "cell_type": "markdown",
   "metadata": {},
   "source": [
    "10. Retrieve the name and grade of students whose grades are 'B' or 'C' and are older than or equal to 18 years old."
   ]
  },
  {
   "cell_type": "code",
   "execution_count": 32,
   "metadata": {},
   "outputs": [
    {
     "data": {
      "text/plain": [
       "[('Michael Santos', 'C'), ('David Poms', 'B'), ('Ashey Lim', 'C')]"
      ]
     },
     "execution_count": 32,
     "metadata": {},
     "output_type": "execute_result"
    }
   ],
   "source": [
    "cursor.execute(\"\"\"\n",
    "SELECT name, grade FROM students \n",
    "               WHERE grade IN ('B', 'C') AND age >= 18;\n",
    "\"\"\")\n",
    "cursor.fetchall()"
   ]
  },
  {
   "cell_type": "markdown",
   "metadata": {},
   "source": [
    "11. Retrieve the name and age of students whose names start with 'A'."
   ]
  },
  {
   "cell_type": "code",
   "execution_count": 33,
   "metadata": {},
   "outputs": [
    {
     "data": {
      "text/plain": [
       "[('Ashey Lim', 18), ('Amanda Hanes', 16)]"
      ]
     },
     "execution_count": 33,
     "metadata": {},
     "output_type": "execute_result"
    }
   ],
   "source": [
    "cursor.execute(\"\"\"\n",
    "SELECT name, age FROM students \n",
    "               WHERE name LIKE 'A%';\n",
    "\"\"\")\n",
    "cursor.fetchall()"
   ]
  },
  {
   "cell_type": "markdown",
   "metadata": {},
   "source": [
    "12. Retrieve the first 5 students whose names contain the letter 'i'."
   ]
  },
  {
   "cell_type": "code",
   "execution_count": 34,
   "metadata": {},
   "outputs": [
    {
     "data": {
      "text/plain": [
       "[(1, 'John Di', 18, 'Male', 'A'),\n",
       " (2, 'Emily Clark', 17, 'Female', 'B'),\n",
       " (3, 'Michael Santos', 19, 'Male', 'C'),\n",
       " (4, 'Sarah Davis', 16, 'Female', 'A'),\n",
       " (5, 'David Poms', 18, 'Male', 'B')]"
      ]
     },
     "execution_count": 34,
     "metadata": {},
     "output_type": "execute_result"
    }
   ],
   "source": [
    "cursor.execute(\"\"\"\n",
    "SELECT * FROM students \n",
    "               WHERE name LIKE '%i%'\n",
    "               LIMIT 5;\n",
    "\"\"\")\n",
    "cursor.fetchall()"
   ]
  }
 ],
 "metadata": {
  "kernelspec": {
   "display_name": "Python 3",
   "language": "python",
   "name": "python3"
  },
  "language_info": {
   "codemirror_mode": {
    "name": "ipython",
    "version": 3
   },
   "file_extension": ".py",
   "mimetype": "text/x-python",
   "name": "python",
   "nbconvert_exporter": "python",
   "pygments_lexer": "ipython3",
   "version": "3.13.0"
  }
 },
 "nbformat": 4,
 "nbformat_minor": 2
}
